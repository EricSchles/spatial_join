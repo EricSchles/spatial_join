{
 "cells": [
  {
   "cell_type": "code",
   "execution_count": 12,
   "metadata": {
    "collapsed": false
   },
   "outputs": [],
   "source": [
    "import rtree\n",
    "import fiona.crs\n",
    "import geopandas as gpd"
   ]
  },
  {
   "cell_type": "code",
   "execution_count": 13,
   "metadata": {
    "collapsed": true
   },
   "outputs": [],
   "source": [
    "index = rtree.Rtree()\n",
    "zones = gpd.read_file('NYCHA/NYCHA_developments_July2011.shp').to_crs(fiona.crs.from_epsg(2263))"
   ]
  },
  {
   "cell_type": "code",
   "execution_count": 14,
   "metadata": {
    "collapsed": false
   },
   "outputs": [
    {
     "data": {
      "text/html": [
       "<div>\n",
       "<table border=\"1\" class=\"dataframe\">\n",
       "  <thead>\n",
       "    <tr style=\"text-align: right;\">\n",
       "      <th></th>\n",
       "      <th>BOROUGH</th>\n",
       "      <th>CUR_UNIT11</th>\n",
       "      <th>DEVELOPMEN</th>\n",
       "      <th>NONRES_BLD</th>\n",
       "      <th>RES_BLDG</th>\n",
       "      <th>TDS_NUM</th>\n",
       "      <th>TOT_POP11</th>\n",
       "      <th>geometry</th>\n",
       "    </tr>\n",
       "  </thead>\n",
       "  <tbody>\n",
       "    <tr>\n",
       "      <th>0</th>\n",
       "      <td>VARIOUS</td>\n",
       "      <td>16</td>\n",
       "      <td>FHA REPOSSESSED HOUSES (GROUP III)</td>\n",
       "      <td>0</td>\n",
       "      <td>18</td>\n",
       "      <td>213</td>\n",
       "      <td>40</td>\n",
       "      <td>(POLYGON ((1002120.103683472 179552.644237477,...</td>\n",
       "    </tr>\n",
       "    <tr>\n",
       "      <th>1</th>\n",
       "      <td>VARIOUS</td>\n",
       "      <td>19</td>\n",
       "      <td>FHA REPOSSESSED HOUSES (GROUP IV)</td>\n",
       "      <td>0</td>\n",
       "      <td>22</td>\n",
       "      <td>226</td>\n",
       "      <td>60</td>\n",
       "      <td>(POLYGON ((1003910.250693723 180500.6387325663...</td>\n",
       "    </tr>\n",
       "    <tr>\n",
       "      <th>2</th>\n",
       "      <td>VARIOUS</td>\n",
       "      <td>40</td>\n",
       "      <td>FHA REPOSSESSED HOUSES (GROUP V)</td>\n",
       "      <td>0</td>\n",
       "      <td>50</td>\n",
       "      <td>260</td>\n",
       "      <td>103</td>\n",
       "      <td>(POLYGON ((1005655.023450882 178293.417425233,...</td>\n",
       "    </tr>\n",
       "    <tr>\n",
       "      <th>3</th>\n",
       "      <td>QUEENS</td>\n",
       "      <td>9</td>\n",
       "      <td>FHA REPOSSESSED HOUSES (GROUP VI)</td>\n",
       "      <td>0</td>\n",
       "      <td>14</td>\n",
       "      <td>273</td>\n",
       "      <td>22</td>\n",
       "      <td>(POLYGON ((1046846.522760647 181178.3473508989...</td>\n",
       "    </tr>\n",
       "    <tr>\n",
       "      <th>4</th>\n",
       "      <td>QUEENS</td>\n",
       "      <td>11</td>\n",
       "      <td>FHA REPOSSESSED HOUSES (GROUP VII)</td>\n",
       "      <td>0</td>\n",
       "      <td>17</td>\n",
       "      <td>274</td>\n",
       "      <td>22</td>\n",
       "      <td>(POLYGON ((1048185.867194804 180368.3889970588...</td>\n",
       "    </tr>\n",
       "  </tbody>\n",
       "</table>\n",
       "</div>"
      ],
      "text/plain": [
       "   BOROUGH  CUR_UNIT11                          DEVELOPMEN  NONRES_BLD  \\\n",
       "0  VARIOUS          16  FHA REPOSSESSED HOUSES (GROUP III)           0   \n",
       "1  VARIOUS          19   FHA REPOSSESSED HOUSES (GROUP IV)           0   \n",
       "2  VARIOUS          40    FHA REPOSSESSED HOUSES (GROUP V)           0   \n",
       "3   QUEENS           9   FHA REPOSSESSED HOUSES (GROUP VI)           0   \n",
       "4   QUEENS          11  FHA REPOSSESSED HOUSES (GROUP VII)           0   \n",
       "\n",
       "   RES_BLDG TDS_NUM  TOT_POP11  \\\n",
       "0        18     213         40   \n",
       "1        22     226         60   \n",
       "2        50     260        103   \n",
       "3        14     273         22   \n",
       "4        17     274         22   \n",
       "\n",
       "                                            geometry  \n",
       "0  (POLYGON ((1002120.103683472 179552.644237477,...  \n",
       "1  (POLYGON ((1003910.250693723 180500.6387325663...  \n",
       "2  (POLYGON ((1005655.023450882 178293.417425233,...  \n",
       "3  (POLYGON ((1046846.522760647 181178.3473508989...  \n",
       "4  (POLYGON ((1048185.867194804 180368.3889970588...  "
      ]
     },
     "execution_count": 14,
     "metadata": {},
     "output_type": "execute_result"
    }
   ],
   "source": [
    "zones.head()"
   ]
  },
  {
   "cell_type": "code",
   "execution_count": 15,
   "metadata": {
    "collapsed": true
   },
   "outputs": [],
   "source": [
    "import pandas as pd\n",
    "f = pd.read_csv('cvh_people.csv')\n",
    "df = pd.DataFrame(f)"
   ]
  },
  {
   "cell_type": "code",
   "execution_count": 19,
   "metadata": {
    "collapsed": false
   },
   "outputs": [],
   "source": [
    "df['coords'] = list(zip(df.Latitude, df.Longitude))"
   ]
  },
  {
   "cell_type": "code",
   "execution_count": 20,
   "metadata": {
    "collapsed": false
   },
   "outputs": [
    {
     "data": {
      "text/html": [
       "<div>\n",
       "<table border=\"1\" class=\"dataframe\">\n",
       "  <thead>\n",
       "    <tr style=\"text-align: right;\">\n",
       "      <th></th>\n",
       "      <th>Internal Contact ID</th>\n",
       "      <th>Latitude</th>\n",
       "      <th>Longitude</th>\n",
       "      <th>coords</th>\n",
       "    </tr>\n",
       "  </thead>\n",
       "  <tbody>\n",
       "    <tr>\n",
       "      <th>0</th>\n",
       "      <td>5</td>\n",
       "      <td>40.687482</td>\n",
       "      <td>-73.963384</td>\n",
       "      <td>(40.687482, -73.963384)</td>\n",
       "    </tr>\n",
       "    <tr>\n",
       "      <th>1</th>\n",
       "      <td>226</td>\n",
       "      <td>40.769909</td>\n",
       "      <td>-73.992111</td>\n",
       "      <td>(40.769909, -73.992111)</td>\n",
       "    </tr>\n",
       "    <tr>\n",
       "      <th>2</th>\n",
       "      <td>228</td>\n",
       "      <td>40.746794</td>\n",
       "      <td>-73.982509</td>\n",
       "      <td>(40.7467938, -73.9825089)</td>\n",
       "    </tr>\n",
       "    <tr>\n",
       "      <th>3</th>\n",
       "      <td>230</td>\n",
       "      <td>40.823687</td>\n",
       "      <td>-73.868344</td>\n",
       "      <td>(40.8236871, -73.8683435)</td>\n",
       "    </tr>\n",
       "    <tr>\n",
       "      <th>4</th>\n",
       "      <td>232</td>\n",
       "      <td>40.760444</td>\n",
       "      <td>-73.973270</td>\n",
       "      <td>(40.760444, -73.97327)</td>\n",
       "    </tr>\n",
       "  </tbody>\n",
       "</table>\n",
       "</div>"
      ],
      "text/plain": [
       "   Internal Contact ID   Latitude  Longitude                     coords\n",
       "0                    5  40.687482 -73.963384    (40.687482, -73.963384)\n",
       "1                  226  40.769909 -73.992111    (40.769909, -73.992111)\n",
       "2                  228  40.746794 -73.982509  (40.7467938, -73.9825089)\n",
       "3                  230  40.823687 -73.868344  (40.8236871, -73.8683435)\n",
       "4                  232  40.760444 -73.973270     (40.760444, -73.97327)"
      ]
     },
     "execution_count": 20,
     "metadata": {},
     "output_type": "execute_result"
    }
   ],
   "source": [
    "df.head()"
   ]
  },
  {
   "cell_type": "code",
   "execution_count": 21,
   "metadata": {
    "collapsed": true
   },
   "outputs": [],
   "source": [
    "from shapely.geometry import Point"
   ]
  },
  {
   "cell_type": "code",
   "execution_count": 29,
   "metadata": {
    "collapsed": true
   },
   "outputs": [],
   "source": [
    "df['geometry'] = df.coords.apply(lambda x: Point(x))"
   ]
  },
  {
   "cell_type": "code",
   "execution_count": 37,
   "metadata": {
    "collapsed": false
   },
   "outputs": [],
   "source": [
    "df = df[['Internal Contact ID', 'geometry']]"
   ]
  },
  {
   "cell_type": "code",
   "execution_count": 49,
   "metadata": {
    "collapsed": true
   },
   "outputs": [],
   "source": [
    "df.crs = {'init': 'epsg:2263', 'no_defs': True}"
   ]
  },
  {
   "cell_type": "code",
   "execution_count": 50,
   "metadata": {
    "collapsed": false
   },
   "outputs": [
    {
     "data": {
      "text/html": [
       "<div>\n",
       "<table border=\"1\" class=\"dataframe\">\n",
       "  <thead>\n",
       "    <tr style=\"text-align: right;\">\n",
       "      <th></th>\n",
       "      <th>Internal Contact ID</th>\n",
       "      <th>geometry</th>\n",
       "    </tr>\n",
       "  </thead>\n",
       "  <tbody>\n",
       "    <tr>\n",
       "      <th>0</th>\n",
       "      <td>5</td>\n",
       "      <td>POINT (40.687482 -73.96338399999999)</td>\n",
       "    </tr>\n",
       "    <tr>\n",
       "      <th>1</th>\n",
       "      <td>226</td>\n",
       "      <td>POINT (40.76990900000001 -73.99211099999999)</td>\n",
       "    </tr>\n",
       "    <tr>\n",
       "      <th>2</th>\n",
       "      <td>228</td>\n",
       "      <td>POINT (40.7467938 -73.9825089)</td>\n",
       "    </tr>\n",
       "    <tr>\n",
       "      <th>3</th>\n",
       "      <td>230</td>\n",
       "      <td>POINT (40.8236871 -73.86834350000001)</td>\n",
       "    </tr>\n",
       "    <tr>\n",
       "      <th>4</th>\n",
       "      <td>232</td>\n",
       "      <td>POINT (40.760444 -73.97327)</td>\n",
       "    </tr>\n",
       "  </tbody>\n",
       "</table>\n",
       "</div>"
      ],
      "text/plain": [
       "   Internal Contact ID                                      geometry\n",
       "0                    5          POINT (40.687482 -73.96338399999999)\n",
       "1                  226  POINT (40.76990900000001 -73.99211099999999)\n",
       "2                  228                POINT (40.7467938 -73.9825089)\n",
       "3                  230         POINT (40.8236871 -73.86834350000001)\n",
       "4                  232                   POINT (40.760444 -73.97327)"
      ]
     },
     "execution_count": 50,
     "metadata": {},
     "output_type": "execute_result"
    }
   ],
   "source": [
    "df.head()"
   ]
  },
  {
   "cell_type": "code",
   "execution_count": null,
   "metadata": {
    "collapsed": true
   },
   "outputs": [],
   "source": []
  }
 ],
 "metadata": {
  "anaconda-cloud": {},
  "kernelspec": {
   "display_name": "Python [conda root]",
   "language": "python",
   "name": "conda-root-py"
  },
  "language_info": {
   "codemirror_mode": {
    "name": "ipython",
    "version": 2
   },
   "file_extension": ".py",
   "mimetype": "text/x-python",
   "name": "python",
   "nbconvert_exporter": "python",
   "pygments_lexer": "ipython2",
   "version": "2.7.12"
  }
 },
 "nbformat": 4,
 "nbformat_minor": 1
}
